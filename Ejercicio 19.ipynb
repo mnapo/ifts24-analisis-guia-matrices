{
  "metadata": {
    "kernelspec": {
      "name": "python",
      "display_name": "Python (Pyodide)",
      "language": "python"
    },
    "language_info": {
      "codemirror_mode": {
        "name": "python",
        "version": 3
      },
      "file_extension": ".py",
      "mimetype": "text/x-python",
      "name": "python",
      "nbconvert_exporter": "python",
      "pygments_lexer": "ipython3",
      "version": "3.8"
    }
  },
  "nbformat_minor": 5,
  "nbformat": 4,
  "cells": [
    {
      "id": "2d327fa5-ef85-40c6-ac8a-42b783f25a35",
      "cell_type": "markdown",
      "source": "# Guía Matrices: Ejercicio 19\n---\n## Consigna\nSabiendo que\n\n\\begin{align}\n    \\begin{vmatrix}\n        x&y&z\\\\\n        5&0&3\\\\\n        1&1&1\\\\\n    \\end{vmatrix} = 1\n\\end{align}\n\nCalcular sin desarrollar:\n\\begin{align}\n    a) \\begin{vmatrix}\n        3x&3y&3z\\\\\n        5&0&3\\\\\n        1&1&1\\\\\n    \\end{vmatrix}\\\\\n    b) \\begin{vmatrix}\n        5x&5y&5z\\\\\n        1&0&\\frac{3}{5}\\\\\n        1&1&1\\\\\n    \\end{vmatrix}\\\\\n    c) \\begin{vmatrix}\n        x&y&z\\\\\n        2x+5&2y&2z+3\\\\\n        x+1&y+1&z+1\\\\\n    \\end{vmatrix}\\\\\n\\end{align}\n\n---",
      "metadata": {}
    },
    {
      "id": "db8d40d4-c89c-4be4-a15e-a068e58d90cc",
      "cell_type": "markdown",
      "source": "## Resolución\n---",
      "metadata": {
        "jp-MarkdownHeadingCollapsed": true
      }
    }
  ]
}