{
  "metadata": {
    "kernelspec": {
      "name": "python",
      "display_name": "Python (Pyodide)",
      "language": "python"
    },
    "language_info": {
      "codemirror_mode": {
        "name": "python",
        "version": 3
      },
      "file_extension": ".py",
      "mimetype": "text/x-python",
      "name": "python",
      "nbconvert_exporter": "python",
      "pygments_lexer": "ipython3",
      "version": "3.8"
    }
  },
  "nbformat_minor": 5,
  "nbformat": 4,
  "cells": [
    {
      "id": "2d327fa5-ef85-40c6-ac8a-42b783f25a35",
      "cell_type": "markdown",
      "source": "# Guía Matrices: Ejercicio 10\n---\n## Consigna\nResuelve matricialmente:\n\\begin{equation}\n    \\begin{cases}\n        x + 2y = −2\\\\\n        10x − 5y + 9z = 48\\\\\n        y − z = −4\\\\\n    \\end{cases}\n\\end{equation}\n\n---",
      "metadata": {}
    },
    {
      "id": "db8d40d4-c89c-4be4-a15e-a068e58d90cc",
      "cell_type": "markdown",
      "source": "## Resolución\n---",
      "metadata": {}
    }
  ]
}