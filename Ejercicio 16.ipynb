{
  "metadata": {
    "kernelspec": {
      "name": "python",
      "display_name": "Python (Pyodide)",
      "language": "python"
    },
    "language_info": {
      "codemirror_mode": {
        "name": "python",
        "version": 3
      },
      "file_extension": ".py",
      "mimetype": "text/x-python",
      "name": "python",
      "nbconvert_exporter": "python",
      "pygments_lexer": "ipython3",
      "version": "3.8"
    }
  },
  "nbformat_minor": 5,
  "nbformat": 4,
  "cells": [
    {
      "id": "2d327fa5-ef85-40c6-ac8a-42b783f25a35",
      "cell_type": "markdown",
      "source": "# Guía Matrices: Ejercicio 16\n---\n## Consigna\nCalcular el valor de los siguientes determinantes:\n\n\\begin{align}\n    a) \\begin{vmatrix}\n        3&1\\\\\n        4&7\\\\\n    \\end{vmatrix}\\\\\n    b) \\begin{vmatrix}\n        1&11\\\\\n        3&33\\\\\n    \\end{vmatrix}\\\\\n    c) \\begin{vmatrix}\n        373&141\\\\\n        0&0\\\\\n    \\end{vmatrix}\\\\\n\\end{align}\n\n---",
      "metadata": {}
    },
    {
      "id": "db8d40d4-c89c-4be4-a15e-a068e58d90cc",
      "cell_type": "markdown",
      "source": "## Resolución\n---",
      "metadata": {
        "jp-MarkdownHeadingCollapsed": true
      }
    }
  ]
}