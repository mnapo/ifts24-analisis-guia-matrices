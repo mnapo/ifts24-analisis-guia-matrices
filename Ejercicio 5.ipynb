{
  "metadata": {
    "kernelspec": {
      "name": "",
      "display_name": ""
    },
    "language_info": {
      "name": ""
    }
  },
  "nbformat_minor": 5,
  "nbformat": 4,
  "cells": [
    {
      "id": "2d327fa5-ef85-40c6-ac8a-42b783f25a35",
      "cell_type": "markdown",
      "source": "# Guía Matrices: Ejercicio 5\n---\n## Consigna\nTres compuestos se combinan para formar tres tipos de fertilizantes. Una unidad del fertilizante de tipo I requiere 10 kg del compuesto A, 30 kg del compuesto B y 60 kg del compuesto C. Una unidad del tipo II requiere 20 kg del A, 30 kg del B, 50 kg del C. Una unidad del tipo III requiere 50 kg del A y 50 kg del C. Si hay disponibles 1600 kg del A, 1200 kg del B y 3200 kg del C. ¿ Cuántas unidades de los tres tipos de fertilizantes se pueden producir si se usa todo el material químico disponible?\n\n    a) Modelizar el problema a través de un sistema de ecuaciones indicando el significado de cada variable y el significado de cada ecuación del sistema.\n    b) ¿(20,20,20) es solución del sistema de ecuaciones lineales? Justifica la respuesta.\n    c) Intentar resolver el sistema de ecuaciones del ítem anterior.\n\n---",
      "metadata": {}
    },
    {
      "id": "db8d40d4-c89c-4be4-a15e-a068e58d90cc",
      "cell_type": "markdown",
      "source": "## Resolución\n---",
      "metadata": {}
    }
  ]
}