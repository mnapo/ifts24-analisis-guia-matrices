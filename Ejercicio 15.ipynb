{
  "metadata": {
    "kernelspec": {
      "name": "python",
      "display_name": "Python (Pyodide)",
      "language": "python"
    },
    "language_info": {
      "codemirror_mode": {
        "name": "python",
        "version": 3
      },
      "file_extension": ".py",
      "mimetype": "text/x-python",
      "name": "python",
      "nbconvert_exporter": "python",
      "pygments_lexer": "ipython3",
      "version": "3.8"
    }
  },
  "nbformat_minor": 5,
  "nbformat": 4,
  "cells": [
    {
      "id": "2d327fa5-ef85-40c6-ac8a-42b783f25a35",
      "cell_type": "markdown",
      "source": "# Guía Matrices: Ejercicio 15\n---\n## Consigna\nEncuentre el determinante de las siguientes matrices\n\n\\begin{align}\n    A = \\begin{pmatrix}\n        -5&4\\\\\n        -3&2\\\\\n    \\end{pmatrix}\\\\\n    B = \\begin{pmatrix}\n        a&-a\\\\\n        b&-b\\\\\n    \\end{pmatrix}\\\\\n    C = \\begin{pmatrix}\n        3&1&-2\\\\\n        4&2&5\\\\\n        -6&3&-1\\\\\n    \\end{pmatrix}\\\\\n    D = \\begin{pmatrix}\n        3&1&-2\\\\\n        1&0&3\\\\\n        2&1&-1\\\\\n    \\end{pmatrix}\\\\\n\\end{align}\n\n---",
      "metadata": {}
    },
    {
      "id": "db8d40d4-c89c-4be4-a15e-a068e58d90cc",
      "cell_type": "markdown",
      "source": "## Resolución\n---",
      "metadata": {
        "jp-MarkdownHeadingCollapsed": true
      }
    }
  ]
}