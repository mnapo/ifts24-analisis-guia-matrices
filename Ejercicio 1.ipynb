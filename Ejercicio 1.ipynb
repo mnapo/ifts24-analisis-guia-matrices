{
  "metadata": {
    "kernelspec": {
      "name": "python",
      "display_name": "Python (Pyodide)",
      "language": "python"
    },
    "language_info": {
      "codemirror_mode": {
        "name": "python",
        "version": 3
      },
      "file_extension": ".py",
      "mimetype": "text/x-python",
      "name": "python",
      "nbconvert_exporter": "python",
      "pygments_lexer": "ipython3",
      "version": "3.8"
    }
  },
  "nbformat_minor": 5,
  "nbformat": 4,
  "cells": [
    {
      "id": "2d327fa5-ef85-40c6-ac8a-42b783f25a35",
      "cell_type": "markdown",
      "source": "# Guía Matrices: Ejercicio 1\n---\n## Consigna\nUsar el método de eliminación de Gauss para resolver los siguientes sistemas lineales. Luego clasifique según el tipo de solución.\n\n---",
      "metadata": {}
    },
    {
      "id": "db8d40d4-c89c-4be4-a15e-a068e58d90cc",
      "cell_type": "markdown",
      "source": "## Resolución\n---",
      "metadata": {}
    },
    {
      "id": "b28d41ca-f19b-4e69-8098-8b7bfd0c3d7f",
      "cell_type": "markdown",
      "source": "### Ejercicio a)\n\\begin{equation}\n    \\begin{cases}\n      x + 2y + 3z = 4\\\\\n      2x + y − 4z = 3\\\\\n    −3x + 4y − z = −2\\\\\n    \\end{cases}\\,.\n\\end{equation}",
      "metadata": {}
    },
    {
      "id": "20e3a6da-7a5d-4301-af43-f2feaea43a54",
      "cell_type": "markdown",
      "source": "### Ejercicio b)\n$\\begin{equation}\n    \\begin{cases}\n    x + y + z = 2\\\\\n    3x − 2y − z = 4\\\\\n    −2x + y + 2z = 2\n    \\end{cases}\\,.\n\\end{equation}$\n\n$\\left( \n    \\begin{array}{ccc|c}\n        1&1&1&2\\\\\n        3&-2&-1&4\\\\\n        -2&1&2&2\\\\\n    \\end{array}\n\\right)\n\\xrightarrow[\\text{F2-3F1, F3+2F1}]{}\n\\left( \n    \\begin{array}{ccc|c}\n        1&1&1&2\\\\\n        0&-5&-4&-2\\\\\n        0&3&4&6\\\\\n    \\end{array}\n\\right)\n\\xrightarrow[\\text{F3+3/5F2}]{}\n\\left( \n    \\begin{array}{ccc|c}\n        1&1&1&2\\\\\n        0&-5&-4&-2\\\\\n        0&0&\\frac{8}{5}&\\frac{24}{5}\\\\\n    \\end{array}\n\\right)\n$",
      "metadata": {}
    },
    {
      "id": "96f14d13-cbfc-41e4-8955-542f4291855b",
      "cell_type": "markdown",
      "source": "$\n\\begin{equation}\n    \\begin{cases}\n    x + y + z = 2\\\\\n    −5y − 4z = -2\\\\\n    -\\frac{8}{5}z = \\frac{24}{5}\n    \\end{cases}\n\\end{equation}\\\\\n$",
      "metadata": {}
    },
    {
      "id": "83b0459d-faf2-46b9-9148-30f49ce65c78",
      "cell_type": "markdown",
      "source": "$S=(\\frac{11}{5};\\frac{14}{5};-3)$   Sistema Compatible Determinado",
      "metadata": {}
    },
    {
      "id": "c735abef-21d4-48a0-9a61-f7e4c9cbf56c",
      "cell_type": "markdown",
      "source": "### Ejercicio c)\n$\\begin{equation}\n    \\begin{cases}\n    3x − 4y + 2z = 1\\\\\n    −2x − 3y + z = 2\\\\\n    5x − y + z = 5\\\\\n    \\end{cases}\\\n\\end{equation}$\n\n$\\left( \n    \\begin{array}{ccc|c}\n        3&-4&2&1\\\\\n        -2&-3&1&2\\\\\n        5&-1&1&5\\\\\n    \\end{array}\n\\right)\n\\xrightarrow[\\text{F3+2/3F1}]{}\n\\left( \n    \\begin{array}{ccc|c}\n        3&-4&2&1\\\\\n        0&\\frac{-17}{3}&\\frac{7}{3}&\\frac{8}{3}\\\\\n        5&-1&1&5\\\\\n    \\end{array}\n\\right)\n\\xrightarrow[\\text{F3-5/3F1}]{}\n\\left( \n    \\begin{array}{ccc|c}\n        3&-4&2&1\\\\\n        0&\\frac{-17}{3}&\\frac{7}{3}&\\frac{8}{3}\\\\\n        0&\\frac{17}{3}&\\frac{-7}{3}&\\frac{10}{3}\\\\\n    \\end{array}\n\\right)\n$",
      "metadata": {}
    },
    {
      "id": "98839ffd-8875-461b-bcb2-3412473a1451",
      "cell_type": "markdown",
      "source": "$S=\\emptyset$   Sistema Incompatible",
      "metadata": {}
    },
    {
      "id": "65ff4e7b-4782-41e3-8682-15a01bb74795",
      "cell_type": "markdown",
      "source": "### Ejercicio d)\n$\\begin{equation}\n    \\begin{cases}\n    x + y + w = 6\\\\\n    x + z − w = −3\\\\\n    y + z + w = −2\\\\\n    −x − y + z = −2\\\\\n    \\end{cases}\\\n\\end{equation}$\n\n$\\left( \n    \\begin{array}{cccc|c}\n        1&1&0&1&6\\\\\n        1&0&1&-1&-3\\\\\n        0&1&1&1&-2\\\\\n        -1&-1&1&0&-2\\\\\n    \\end{array}\n\\right)\n\\xrightarrow[\\text{F2-F1}]{}\n\\left( \n    \\begin{array}{cccc|c}\n        1&1&0&1&6\\\\\n        0&-1&1&-2&-9\\\\\n        0&1&1&1&-2\\\\\n        -1&-1&1&0&-2\\\\\n    \\end{array}\n\\right)\n\\xrightarrow[\\text{F3+F2}]{}\n\\left( \n    \\begin{array}{cccc|c}\n        1&1&0&1&6\\\\\n        1&0&1&-1&-3\\\\\n        0&0&2&-1&-11\\\\\n        -1&-1&1&0&-2\\\\\n    \\end{array}\n\\right)\n\\xrightarrow[\\text{F4+F1}]{}\n\\left( \n    \\begin{array}{cccc|c}\n        1&1&0&1&6\\\\\n        1&0&1&-1&-3\\\\\n        0&0&2&-1&-11\\\\\n        0&0&1&1&4\\\\\n    \\end{array}\n\\right)\n\\xrightarrow[\\text{F4-1/2F3}]{}\n\\left( \n    \\begin{array}{cccc|c}\n        1&1&0&1&6\\\\\n        1&0&1&-1&-3\\\\\n        0&0&2&-1&-11\\\\\n        0&0&0&\\frac{3}{2}&\\frac{19}{2}\\\\\n    \\end{array}\n\\right)\n$",
      "metadata": {}
    },
    {
      "id": "2db040e7-b7df-4a79-9e62-e00faf7edacd",
      "cell_type": "markdown",
      "source": "$\n\\begin{equation}\n    \\begin{cases}\n    x + y + w = 6\\\\\n    −y + z -2w = -9\\\\\n    27 - w = -11\\\\\n    \\frac{3}{2}w = \\frac{19}{2}\\\\\n    \\end{cases}\n\\end{equation}\\\\\n$",
      "metadata": {}
    },
    {
      "id": "69fc56e5-5e35-4c79-8b02-0cfdf3c2756e",
      "cell_type": "markdown",
      "source": "$S=(\\frac{17}{3};-6;\\frac{-7}{3};\\frac{19}{3})=(17;-18;-21;19)$   Sistema Compatible Determinado",
      "metadata": {}
    },
    {
      "id": "4d9ab522-cdab-4b38-ada2-e6c775db1d01",
      "cell_type": "markdown",
      "source": "### Ejercicio e)\n$\\begin{equation}\n    \\begin{cases}\n    x + y = 3\\\\\n    y + z = 5\\\\\n    z − w = −1\\\\\n    −x + w = 3\\\\\n    \\end{cases}\\\n\\end{equation}$\n\n$\\left( \n    \\begin{array}{cccc|c}\n        1&1&0&0&3\\\\\n        0&1&1&0&5\\\\\n        0&0&1&-1&-1\\\\\n        -1&0&0&1&3\\\\\n    \\end{array}\n\\right)\n\\xrightarrow[\\text{F4+F1}]{}\n\\left( \n    \\begin{array}{cccc|c}\n        1&1&0&0&3\\\\\n        0&1&1&0&5\\\\\n        0&0&1&-1&-1\\\\\n        0&1&0&1&6\\\\\n    \\end{array}\n\\right)\n\\xrightarrow[\\text{F4-F2}]{}\n\\left( \n    \\begin{array}{cccc|c}\n        1&1&0&0&3\\\\\n        0&1&1&0&5\\\\\n        0&0&1&-1&-1\\\\\n        0&0&-1&1&1\\\\\n    \\end{array}\n\\right)\n\\xrightarrow[\\text{F4+F3}]{}\n\\left( \n    \\begin{array}{cccc|c}\n        1&1&0&1&6\\\\\n        1&0&1&-1&-3\\\\\n        0&0&2&-1&-11\\\\\n        0&0&0&0&0\\\\\n    \\end{array}\n\\right)\n$",
      "metadata": {}
    },
    {
      "id": "98a48bbb-5efd-4835-b521-ed10abe63519",
      "cell_type": "markdown",
      "source": "$\n\\begin{equation}\n    \\begin{cases}\n    x + y = 3\\\\\n    y + z = 5\\\\\n    z - w = -1\\\\\n    \\end{cases}\n\\end{equation}\\\\\n$",
      "metadata": {}
    },
    {
      "id": "5e20a77e-5084-44ec-96d2-bf4fd3956106",
      "cell_type": "markdown",
      "source": "$S=(-3+w;6-w;w;-1+w)=w(1;-1;1;-1)+(-3;6;0;-1)$   Sistema Compatible Indeterminado",
      "metadata": {}
    },
    {
      "id": "1e18ed9a-55b8-4907-bc46-135a3aa83fd6",
      "cell_type": "markdown",
      "source": "### Ejercicio f)\n$\\begin{equation}\n    \\begin{cases}\n    x + 2y − 3z + 4w = 7\\\\\n    x − y + 3z + w = −5\\\\\n    2x + y − z − w = 8\\\\\n    5x − y = 0\\\\\n    \\end{cases}\\\n\\end{equation}$\n\n$\\left( \n    \\begin{array}{cccc|c}\n        1&2&-3&4&7\\\\\n        1&-1&3&1&-5\\\\\n        2&1&-1&-1&8\\\\\n        5&-1&0&0&0\\\\\n    \\end{array}\n\\right)\n\\xrightarrow[\\text{F2-F1}]{}\n\\left( \n    \\begin{array}{cccc|c}\n        1&2&-3&4&7\\\\\n        0&-3&0&-3&-12\\\\\n        2&1&-1&-1&8\\\\\n        5&-1&0&0&0\\\\\n    \\end{array}\n\\right)\n\\xrightarrow[\\text{F3-2F1}]{}\n\\left( \n    \\begin{array}{cccc|c}\n        1&2&-3&4&7\\\\\n        0&-3&0&-3&-12\\\\\n        0&-3&5&-9&-6\\\\\n        5&-1&0&0&0\\\\\n    \\end{array}\n\\right)\n\\xrightarrow[\\text{F3-F2}]{}\n\\left( \n    \\begin{array}{cccc|c}\n        1&2&-3&4&7\\\\\n        0&-3&0&-3&-12\\\\\n        0&0&5&-6&6\\\\\n        5&-1&0&0&0\\\\\n    \\end{array}\n\\right)\n\\xrightarrow[\\text{F4-5F1}]{}\n\\left( \n    \\begin{array}{cccc|c}\n        1&2&-3&4&7\\\\\n        0&-3&0&-3&-12\\\\\n        0&0&5&-6&6\\\\\n        0&-11&15&-20&-35\\\\\n    \\end{array}\n\\right)\n\\xrightarrow[\\text{F4-11/3F2}]{}\n\\left( \n    \\begin{array}{cccc|c}\n        1&2&-3&4&7\\\\\n        0&-3&0&-3&-12\\\\\n        0&0&5&-6&6\\\\\n        0&0&15&-9&-9\\\\\n    \\end{array}\n\\right)\n\\xrightarrow[\\text{F4-3F3}]{}\n\\left( \n    \\begin{array}{cccc|c}\n        1&2&-3&4&7\\\\\n        0&-3&0&-3&-12\\\\\n        0&0&5&-6&6\\\\\n        0&0&0&9&-9\\\\\n    \\end{array}\n\\right)\n$",
      "metadata": {}
    },
    {
      "id": "edcb6175-de88-4a12-9bce-4666f3b24093",
      "cell_type": "markdown",
      "source": "$\\begin{equation}\n    \\begin{cases}\n    x + 2y − 3z + 4w = 7\\\\\n    -3y - 3z = -12\\\\\n    5z − 6w = 6\\\\\n    9w = -9\\\\\n    \\end{cases}\\\n\\end{equation}$",
      "metadata": {}
    },
    {
      "id": "c033e4dd-ceb2-400e-bbfb-a6ac1370c072",
      "cell_type": "markdown",
      "source": "$S = (15;\\frac{8}{5};\\frac{12}{5};-1) = (75;8;12;-5)$    Sistema Compatible Determinado",
      "metadata": {}
    },
    {
      "id": "f14e56b3-39e2-419c-afba-0509e654df03",
      "cell_type": "markdown",
      "source": "### Ejercicio g)\n\\begin{equation}\n    \\begin{cases}\n    x − y = −3\\\\\n    −2x + 3y + z = 4\\\\\n    2x + y − 5z = 4\\\\\n    \\end{cases}\\,.\n\\end{equation}",
      "metadata": {}
    },
    {
      "id": "3b5650aa-0956-4ad7-8415-34f8654307fd",
      "cell_type": "markdown",
      "source": "### Ejercicio h)\n\\begin{equation}\n    \\begin{cases}\n    −x + 2y − 3z = −2\\\\\n    −x + 8y − 27z = 0\\\\\n    x − y − z = 1\\\\\n    \\end{cases}\\,.\n\\end{equation}",
      "metadata": {}
    }
  ]
}