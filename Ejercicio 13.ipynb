{
  "metadata": {
    "kernelspec": {
      "name": "python",
      "display_name": "Python (Pyodide)",
      "language": "python"
    },
    "language_info": {
      "codemirror_mode": {
        "name": "python",
        "version": 3
      },
      "file_extension": ".py",
      "mimetype": "text/x-python",
      "name": "python",
      "nbconvert_exporter": "python",
      "pygments_lexer": "ipython3",
      "version": "3.8"
    }
  },
  "nbformat_minor": 5,
  "nbformat": 4,
  "cells": [
    {
      "id": "2d327fa5-ef85-40c6-ac8a-42b783f25a35",
      "cell_type": "markdown",
      "source": "# Guía Matrices: Ejercicio 13\n---\n## Consigna\nDadas las matrices\n\n\\begin{align}\n    A = \\begin{pmatrix}\n        1&2&1\\\\\n        1&2&9\\\\\n        10&-3&5\\\\\n    \\end{pmatrix} ; \n     B = \\begin{pmatrix}\n        2&2&0\\\\\n        1&3&9\\\\\n        10&-3&4\\\\\n    \\end{pmatrix} ; \n     C = \\begin{pmatrix}\n        1&3&-6\\\\\n        0&1&0\\\\\n    \\end{pmatrix}\n\\end{align}\n\na) Resolver la ecuación matricial $X · A + C = X · B$\n\nb) Resolver la ecuación matricial $AXA^T = \\sqrt 5 · A$\n\nc) Resolver la ecuación matricial $A · X − X = B$\n\n---",
      "metadata": {}
    },
    {
      "id": "db8d40d4-c89c-4be4-a15e-a068e58d90cc",
      "cell_type": "markdown",
      "source": "## Resolución\n---",
      "metadata": {
        "jp-MarkdownHeadingCollapsed": true
      }
    }
  ]
}