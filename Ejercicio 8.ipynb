{
  "metadata": {
    "kernelspec": {
      "name": "",
      "display_name": ""
    },
    "language_info": {
      "name": ""
    }
  },
  "nbformat_minor": 5,
  "nbformat": 4,
  "cells": [
    {
      "id": "2d327fa5-ef85-40c6-ac8a-42b783f25a35",
      "cell_type": "markdown",
      "source": "# Guía Matrices: Ejercicio 8\n---\n## Consigna\nDadas las matrices\n\n\\begin{align}\n    A = \\begin{pmatrix}\n        1&0&-2\\\\\n        4&1&-3\\\\\n    \\end{pmatrix}\n    \\\\\n    B = \\begin{pmatrix}\n        -1&0&-1\\\\\n        -4&1&3\\\\\n    \\end{pmatrix}\n    \\\\\n    C = \\begin{pmatrix}\n        7&1&-1\\\\\n        8&-10&0\\\\\n    \\end{pmatrix}\n    \\\\\n    D = \\begin{pmatrix}\n        -3&1&5\\\\\n        6&2&4\\\\\n    \\end{pmatrix}\n\\end{align}\n\nCalcula $E = 2A − 3B + C − 2D$\n\n---",
      "metadata": {}
    },
    {
      "id": "db8d40d4-c89c-4be4-a15e-a068e58d90cc",
      "cell_type": "markdown",
      "source": "## Resolución\n---",
      "metadata": {
        "jp-MarkdownHeadingCollapsed": true
      }
    }
  ]
}