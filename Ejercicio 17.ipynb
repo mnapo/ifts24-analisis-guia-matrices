{
  "metadata": {
    "kernelspec": {
      "name": "python",
      "display_name": "Python (Pyodide)",
      "language": "python"
    },
    "language_info": {
      "codemirror_mode": {
        "name": "python",
        "version": 3
      },
      "file_extension": ".py",
      "mimetype": "text/x-python",
      "name": "python",
      "nbconvert_exporter": "python",
      "pygments_lexer": "ipython3",
      "version": "3.8"
    }
  },
  "nbformat_minor": 5,
  "nbformat": 4,
  "cells": [
    {
      "id": "2d327fa5-ef85-40c6-ac8a-42b783f25a35",
      "cell_type": "markdown",
      "source": "# Guía Matrices: Ejercicio 17\n---\n## Consigna\nCalcula\n\n\\begin{align}\n    a) \\begin{vmatrix}\n        7&0&7\\\\\n        1&6&1\\\\\n        2&4&2\\\\\n    \\end{vmatrix}\\\\\n    b) \\begin{vmatrix}\n        4&1&3\\\\\n        5&0&7\\\\\n        45&10&37\\\\\n    \\end{vmatrix}\\\\\n    c) \\begin{vmatrix}\n        5&1&4\\\\\n        0&3&6\\\\\n        9&6&8\\\\\n    \\end{vmatrix}\\\\\n    d) \\begin{vmatrix}\n        4&2&4\\\\\n        5&0&-1\\\\\n        -1&3&2\\\\\n    \\end{vmatrix}\\\\\n    e) \\begin{vmatrix}\n        1&3&9\\\\\n        0&7&0\\\\\n        -2&8&0\\\\\n    \\end{vmatrix}\\\\\n    f) \\begin{vmatrix}\n        1&3&2\\\\\n        0&-4&-1\\\\\n        2&1&0\\\\\n    \\end{vmatrix}\\\\\n\\end{align}\n\n---",
      "metadata": {}
    },
    {
      "id": "db8d40d4-c89c-4be4-a15e-a068e58d90cc",
      "cell_type": "markdown",
      "source": "## Resolución\n---",
      "metadata": {
        "jp-MarkdownHeadingCollapsed": true
      }
    }
  ]
}