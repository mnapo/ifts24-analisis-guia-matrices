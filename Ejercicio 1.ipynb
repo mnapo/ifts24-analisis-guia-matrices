{
  "metadata": {
    "kernelspec": {
      "name": "python",
      "display_name": "Python (Pyodide)",
      "language": "python"
    },
    "language_info": {
      "codemirror_mode": {
        "name": "python",
        "version": 3
      },
      "file_extension": ".py",
      "mimetype": "text/x-python",
      "name": "python",
      "nbconvert_exporter": "python",
      "pygments_lexer": "ipython3",
      "version": "3.8"
    }
  },
  "nbformat_minor": 5,
  "nbformat": 4,
  "cells": [
    {
      "id": "2d327fa5-ef85-40c6-ac8a-42b783f25a35",
      "cell_type": "markdown",
      "source": "# Guía Matrices: Ejercicio 1\n---\n## Consigna\nUsar el método de eliminación de Gauss para resolver los siguientes sistemas lineales. Luego clasifique según el tipo de solución.\n\n---",
      "metadata": {}
    },
    {
      "id": "b28d41ca-f19b-4e69-8098-8b7bfd0c3d7f",
      "cell_type": "markdown",
      "source": "### Ejercicio a)\n\\begin{equation}\n    \\begin{cases}\n      x + 2y + 3z = 4\\\\\n      2x + y − 4z = 3\\\\\n    −3x + 4y − z = −2\\\\\n    \\end{cases}\\,.\n\\end{equation}",
      "metadata": {}
    },
    {
      "id": "20e3a6da-7a5d-4301-af43-f2feaea43a54",
      "cell_type": "markdown",
      "source": "### Ejercicio b)\n\\begin{equation}\n    \\begin{cases}\n    x + y + z = 2\\\\\n    3x − 2y − z = 4\\\\\n    −2x + y + 2z = 2\n    \\end{cases}\\,.\n\\end{equation}",
      "metadata": {}
    },
    {
      "id": "c735abef-21d4-48a0-9a61-f7e4c9cbf56c",
      "cell_type": "markdown",
      "source": "### Ejercicio c)\n\\begin{equation}\n    \\begin{cases}\n    3x − 4y + 2z = 1\\\\\n    −2x − 3y + z = 2\\\\\n    5x − y + z = 5\\\\\n    \\end{cases}\\,.\n\\end{equation}",
      "metadata": {}
    },
    {
      "id": "65ff4e7b-4782-41e3-8682-15a01bb74795",
      "cell_type": "markdown",
      "source": "### Ejercicio d)\n\\begin{equation}\n    \\begin{cases}\n    x + y + w = 6\\\\\n    x + z − w = −3\\\\\n    y + z + w = −2\\\\\n    −x − y + z = −2\\\\\n    \\end{cases}\\,.\n\\end{equation}",
      "metadata": {}
    },
    {
      "id": "4d9ab522-cdab-4b38-ada2-e6c775db1d01",
      "cell_type": "markdown",
      "source": "### Ejercicio e)\n\\begin{equation}\n    \\begin{cases}\n    x + y = 3\\\\\n    y + z = 5\\\\\n    z − w = −1\\\\\n    −x + w = 3\\\\\n    \\end{cases}\\,.\n\\end{equation}",
      "metadata": {
        "jp-MarkdownHeadingCollapsed": true
      }
    },
    {
      "id": "1e18ed9a-55b8-4907-bc46-135a3aa83fd6",
      "cell_type": "markdown",
      "source": "### Ejercicio f)\n\\begin{equation}\n    \\begin{cases}\n    x + 2y − 3z + 4w = 7\\\\\n    x − y + 3z + w = −5\\\\\n    2x + y − z − w = 8\\\\\n    5x − y = 0\\\\\n    \\end{cases}\\,.\n\\end{equation}",
      "metadata": {}
    },
    {
      "id": "f14e56b3-39e2-419c-afba-0509e654df03",
      "cell_type": "markdown",
      "source": "### Ejercicio g)\n\\begin{equation}\n    \\begin{cases}\n    x − y = −3\\\\\n    −2x + 3y + z = 4\\\\\n    2x + y − 5z = 4\\\\\n    \\end{cases}\\,.\n\\end{equation}",
      "metadata": {}
    },
    {
      "id": "3b5650aa-0956-4ad7-8415-34f8654307fd",
      "cell_type": "markdown",
      "source": "### Ejercicio h)\n\\begin{equation}\n    \\begin{cases}\n    −x + 2y − 3z = −2\\\\\n    −x + 8y − 27z = 0\\\\\n    x − y − z = 1\\\\\n    \\end{cases}\\,.\n\\end{equation}",
      "metadata": {}
    },
    {
      "id": "db8d40d4-c89c-4be4-a15e-a068e58d90cc",
      "cell_type": "markdown",
      "source": "## Resolución\n---",
      "metadata": {}
    }
  ]
}