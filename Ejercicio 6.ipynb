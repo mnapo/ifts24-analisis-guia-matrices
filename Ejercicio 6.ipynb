{
  "metadata": {
    "kernelspec": {
      "name": "python",
      "display_name": "Python (Pyodide)",
      "language": "python"
    },
    "language_info": {
      "codemirror_mode": {
        "name": "python",
        "version": 3
      },
      "file_extension": ".py",
      "mimetype": "text/x-python",
      "name": "python",
      "nbconvert_exporter": "python",
      "pygments_lexer": "ipython3",
      "version": "3.8"
    }
  },
  "nbformat_minor": 5,
  "nbformat": 4,
  "cells": [
    {
      "id": "2d327fa5-ef85-40c6-ac8a-42b783f25a35",
      "cell_type": "markdown",
      "source": "# Guía Matrices: Ejercicio 6\n---\n## Consigna\nEncuentre si es posible $A + B; A − B; B · A; A − C^T$\n\n\\begin{align}\n    a) A = \\begin{pmatrix}\n        5&-2\\\\\n        1&3\\\\\n    \\end{pmatrix} ; \n     B = \\begin{pmatrix}\n        4&1\\\\\n        -3&2\\\\\n    \\end{pmatrix}\n    \\\\\n    b) A = \\begin{pmatrix}\n        3&0\\\\\n        -1&2\\\\\n    \\end{pmatrix} ; \n     B = \\begin{pmatrix}\n        3&-4\\\\\n        1&1\\\\\n    \\end{pmatrix}\n    \\\\\n    c) A = \\begin{pmatrix}\n        1&2&0\\\\\n        -2&2&-3\\\\\n    \\end{pmatrix} ; \n     B = \\begin{pmatrix}\n        1&2\\\\\n        1&-2\\\\\n        3&0\\\\\n    \\end{pmatrix} ;\n     C = \\begin{pmatrix}\n        1&-2&0\\\\\n        -4&5&7\\\\\n        3&3&9\\\\\n    \\end{pmatrix}\n    \\\\\n    d) A = \\begin{pmatrix}\n        1&2\\\\\n        5&-2\\\\\n        3&-4\\\\\n    \\end{pmatrix} ; \n     B = \\begin{pmatrix}\n        -1&2\\\\\n        3&2\\\\\n        3&0\\\\\n    \\end{pmatrix} ; \n     C = \\begin{pmatrix}\n        3&-4\\\\\n        1&1\\\\\n    \\end{pmatrix}\n    \\\\\n    e) A = \\begin{pmatrix}\n        1&-1\\\\\n        0&-2\\\\\n        2&0\\\\\n    \\end{pmatrix} ; \n     B = \\begin{pmatrix}\n        0&1&5\\\\\n        -2&0&-3\\\\\n    \\end{pmatrix}\n\\end{align}\n\n---",
      "metadata": {}
    },
    {
      "id": "db8d40d4-c89c-4be4-a15e-a068e58d90cc",
      "cell_type": "markdown",
      "source": "## Resolución\n---",
      "metadata": {}
    },
    {
      "id": "eadc1ef4-d381-43cb-988b-d9657f08ed10",
      "cell_type": "markdown",
      "source": "### a)",
      "metadata": {}
    },
    {
      "id": "655393de-7f16-4d2a-9ea8-bedbb4d0ac0e",
      "cell_type": "markdown",
      "source": "$A + B = \\begin{pmatrix}\n        5+4&-2+1\\\\\n        1-3&3+2\\\\\n    \\end{pmatrix}\n=\\begin{pmatrix}\n        9&-1\\\\\n        -2&5\\\\\n    \\end{pmatrix}$",
      "metadata": {}
    },
    {
      "id": "f522cee4-0bd4-4a04-9154-c6d64fe50728",
      "cell_type": "markdown",
      "source": "$A - B = \\begin{pmatrix}\n        5-4&-2-1\\\\\n        1+3&3-2\\\\\n    \\end{pmatrix}\n=\\begin{pmatrix}\n        1&-3\\\\\n        4&1\\\\\n    \\end{pmatrix}$",
      "metadata": {}
    },
    {
      "id": "a141ae80-185d-4b82-abbf-6ba8520dc1cb",
      "cell_type": "markdown",
      "source": "$B * A = \\begin{pmatrix}\n        4*5+1&-4*(-2)+1*3\\\\\n        -3*5+2*1&-3*(-2)+2*3\\\\\n    \\end{pmatrix}\n=\\begin{pmatrix}\n        21&-5\\\\\n        -13&12\\\\\n    \\end{pmatrix}$",
      "metadata": {}
    },
    {
      "id": "7268c72a-92c0-4911-a565-5e2bf25540ed",
      "cell_type": "markdown",
      "source": "### b)",
      "metadata": {}
    },
    {
      "id": "8efd8d14-c867-4fb7-8033-5a131756367a",
      "cell_type": "markdown",
      "source": "$A + B = \\begin{pmatrix}\n        6&-4\\\\\n        0&3\\\\\n    \\end{pmatrix}$",
      "metadata": {}
    },
    {
      "id": "fe8b3912-971f-40c1-bffc-ba3cbc9f8ceb",
      "cell_type": "markdown",
      "source": "$A - B = \\begin{pmatrix}\n        0&4\\\\\n        -2&1\\\\\n    \\end{pmatrix}$",
      "metadata": {}
    },
    {
      "id": "63d50543-a2c9-4a69-94fb-0f92a60272a9",
      "cell_type": "markdown",
      "source": "$B * A = \\begin{pmatrix}\n        9-0*1&3*0-4*2\\\\\n        -1*3-2*1&-1*(-4)+2*1\\\\\n    \\end{pmatrix}\n=\\begin{pmatrix}\n        9&-8\\\\\n        -5&6\\\\\n    \\end{pmatrix}$",
      "metadata": {}
    },
    {
      "id": "560e03e3-a1d6-42b5-8189-008bea85c672",
      "cell_type": "markdown",
      "source": "### c)",
      "metadata": {}
    },
    {
      "id": "edb2a6a8-ad00-4ac9-8335-cf03fa670657",
      "cell_type": "markdown",
      "source": "$C^T = \\begin{pmatrix}\n        1&-4&3\\\\\n        -2&5&3\\\\\n        0&7&9\\\\\n    \\end{pmatrix}$",
      "metadata": {}
    },
    {
      "id": "ececeaa6-05e7-4c81-be77-6198e0ae1725",
      "cell_type": "markdown",
      "source": "$A - C^T:$",
      "metadata": {}
    },
    {
      "id": "47a29181-fb2c-4629-aa8b-c711a2e72347",
      "cell_type": "markdown",
      "source": "No se puede realizar",
      "metadata": {}
    }
  ]
}