{
  "metadata": {
    "kernelspec": {
      "name": "",
      "display_name": ""
    },
    "language_info": {
      "name": ""
    }
  },
  "nbformat_minor": 5,
  "nbformat": 4,
  "cells": [
    {
      "id": "2d327fa5-ef85-40c6-ac8a-42b783f25a35",
      "cell_type": "markdown",
      "source": "# Guía Matrices: Ejercicio 4\n---\n## Consigna\nUna caja de cereal para el desayuno normalmente indica el número de calorías y las cantidades de proteínas, carbohidratos y grasa contenidas en una porción de cereal. A la derecha se muestran las cantidades para dos conocidos cereales. Supongamos que se tiene que preparar una mezcla de estos dos cereales que contenga exactamente 295 calorías, 9 gramos de proteínas, 48 gramos de carbohidratos y 8 gramos de grasa.\n\n| Nutrimiento | Cheerios de General Mills | Quaker 100 % cereal natural |\n|:--------:|:--------:|:--------:|\n| calorías | 110 | 130 |\n| proteínas (gramos) | 4 | 3 |\n| carbohidratos (gramos) | 20 | 18 |\n| grasa | 2 | 5 |\n\n    a) Modelizar el problema a través de un sistema de ecuaciones lineales indicando el significado de cada variable y el significado de cada ecuación del sistema.\n    b) Encontrar la solución del sistema de ecuaciones lineales y verificar si la solución que encontraste es solución del sistema de ecuaciones lineales propuesto.\n    c) Responder la pregunta.\n\n---",
      "metadata": {}
    },
    {
      "id": "db8d40d4-c89c-4be4-a15e-a068e58d90cc",
      "cell_type": "markdown",
      "source": "## Resolución\n---",
      "metadata": {}
    }
  ]
}