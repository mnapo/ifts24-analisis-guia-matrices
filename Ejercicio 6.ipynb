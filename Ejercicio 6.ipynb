{
  "metadata": {
    "kernelspec": {
      "name": "python",
      "display_name": "Python (Pyodide)",
      "language": "python"
    },
    "language_info": {
      "codemirror_mode": {
        "name": "python",
        "version": 3
      },
      "file_extension": ".py",
      "mimetype": "text/x-python",
      "name": "python",
      "nbconvert_exporter": "python",
      "pygments_lexer": "ipython3",
      "version": "3.8"
    }
  },
  "nbformat_minor": 5,
  "nbformat": 4,
  "cells": [
    {
      "id": "2d327fa5-ef85-40c6-ac8a-42b783f25a35",
      "cell_type": "markdown",
      "source": "# Guía Matrices: Ejercicio 6\n---\n## Consigna\nEncuentre si es posible $A + B; A − B; B · A; A − C^T$\n\n\\begin{align}\n    a) A = \\begin{pmatrix}\n        5&-2\\\\\n        1&3\\\\\n    \\end{pmatrix} ; \n     B = \\begin{pmatrix}\n        4&1\\\\\n        -3&2\\\\\n    \\end{pmatrix}\n    \\\\\n    b) A = \\begin{pmatrix}\n        3&0\\\\\n        -1&2\\\\\n    \\end{pmatrix} ; \n     B = \\begin{pmatrix}\n        3&-4\\\\\n        1&1\\\\\n    \\end{pmatrix}\n    \\\\\n    c) A = \\begin{pmatrix}\n        1&2&0\\\\\n        -2&2&-3\\\\\n    \\end{pmatrix} ; \n     B = \\begin{pmatrix}\n        1&2\\\\\n        1&-2\\\\\n        3&0\\\\\n    \\end{pmatrix} ;\n     C = \\begin{pmatrix}\n        1&-2&0\\\\\n        -4&5&7\\\\\n        3&3&9\\\\\n    \\end{pmatrix}\n    \\\\\n    d) A = \\begin{pmatrix}\n        1&2\\\\\n        5&-2\\\\\n        3&-4\\\\\n    \\end{pmatrix} ; \n     B = \\begin{pmatrix}\n        -1&2\\\\\n        3&2\\\\\n        3&0\\\\\n    \\end{pmatrix} ; \n     C = \\begin{pmatrix}\n        3&-4\\\\\n        1&1\\\\\n    \\end{pmatrix}\n    \\\\\n    e) A = \\begin{pmatrix}\n        1&-1\\\\\n        0&-2\\\\\n        2&0\\\\\n    \\end{pmatrix} ; \n     B = \\begin{pmatrix}\n        0&1&5\\\\\n        -2&0&-3\\\\\n    \\end{pmatrix}\n\\end{align}\n\n---",
      "metadata": {}
    },
    {
      "id": "db8d40d4-c89c-4be4-a15e-a068e58d90cc",
      "cell_type": "markdown",
      "source": "## Resolución\n---",
      "metadata": {
        "jp-MarkdownHeadingCollapsed": true
      }
    }
  ]
}