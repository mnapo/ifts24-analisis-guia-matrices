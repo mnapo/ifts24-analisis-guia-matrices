{
  "metadata": {
    "kernelspec": {
      "name": "",
      "display_name": ""
    },
    "language_info": {
      "name": ""
    }
  },
  "nbformat_minor": 5,
  "nbformat": 4,
  "cells": [
    {
      "id": "2d327fa5-ef85-40c6-ac8a-42b783f25a35",
      "cell_type": "markdown",
      "source": "# Guía Matrices: Ejercicio 3\n---\n## Consigna\nDeterminar los valores de a para que el sistema\n\\begin{equation}\n    \\begin{cases}\n        (2m + 2)x + (m − 1)y + (m + 3)z = 2m + 2\\\\\n        (m − 1)y − (m − 1)z = 0\\\\\n        mx + y − z = m + 1\\\\\n    \\end{cases}\\,.\n\\end{equation}\n\n    a) Tenga solución única.\n    b) Tenga infinitas soluciones. En tal caso hallarlas.\n    c) No tenga soluciones.\n---",
      "metadata": {}
    },
    {
      "id": "db8d40d4-c89c-4be4-a15e-a068e58d90cc",
      "cell_type": "markdown",
      "source": "## Resolución\n---",
      "metadata": {}
    }
  ]
}