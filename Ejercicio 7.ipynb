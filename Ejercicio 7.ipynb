{
  "metadata": {
    "kernelspec": {
      "name": "",
      "display_name": ""
    },
    "language_info": {
      "name": ""
    }
  },
  "nbformat_minor": 5,
  "nbformat": 4,
  "cells": [
    {
      "id": "2d327fa5-ef85-40c6-ac8a-42b783f25a35",
      "cell_type": "markdown",
      "source": "# Guía Matrices: Ejercicio 7\n---\n## Consigna\nCalcula la matriz inversa de aquellas de las siguientes matrices para las que se pueda:\n\n\\begin{align}\n    a) \\begin{pmatrix}\n        1&1\\\\\n        0&1\\\\\n    \\end{pmatrix}\n    \\\\\n    b) \\begin{pmatrix}\n        1&2\\\\\n        3&4\\\\\n    \\end{pmatrix}\n    \\\\\n    c) \\begin{pmatrix}\n        1&2\\\\\n        -2&-4\\\\\n    \\end{pmatrix}\n    \\\\\n    d) \\begin{pmatrix}\n        3&4\\\\\n        0&0\\\\\n    \\end{pmatrix}\n\\end{align}\n\n---",
      "metadata": {}
    },
    {
      "id": "db8d40d4-c89c-4be4-a15e-a068e58d90cc",
      "cell_type": "markdown",
      "source": "## Resolución\n---",
      "metadata": {
        "jp-MarkdownHeadingCollapsed": true
      }
    }
  ]
}