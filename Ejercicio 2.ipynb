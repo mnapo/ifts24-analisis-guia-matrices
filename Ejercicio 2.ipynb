{
  "cells": [
    {
      "cell_type": "markdown",
      "id": "2d327fa5-ef85-40c6-ac8a-42b783f25a35",
      "metadata": {},
      "source": [
        "# Guía Matrices: Ejercicio 2\n",
        "---\n",
        "## Consigna\n",
        "Determinar los valores de a para que el sistema"
      ]
    },
    {
      "cell_type": "code",
      "execution_count": null,
      "id": "4381e8d8",
      "metadata": {
        "vscode": {
          "languageId": "plaintext"
        }
      },
      "outputs": [],
      "source": [
        "\\begin{equation}\n",
        "    \\begin{cases}\n",
        "        (2a + 2)x + (a − 1)y + (a + 3)z = −2\\\\\n",
        "        (a − 1)y − (a − 1)z = 0\\\\\n",
        "        2x + y − z = −1\\\\\n",
        "    \\end{cases}\\,.\n",
        "\\end{equation}"
      ]
    },
    {
      "cell_type": "markdown",
      "id": "93ef9793",
      "metadata": {},
      "source": [
        "a) Tenga solución única.\n",
        "b) Tenga infinitas soluciones. En tal caso hallarlas.\n",
        "c) No tenga soluciones."
      ]
    },
    {
      "cell_type": "markdown",
      "id": "db8d40d4-c89c-4be4-a15e-a068e58d90cc",
      "metadata": {},
      "source": [
        "## Resolución\n",
        "---"
      ]
    }
  ],
  "metadata": {
    "kernelspec": {
      "display_name": "",
      "name": ""
    },
    "language_info": {
      "name": ""
    }
  },
  "nbformat": 4,
  "nbformat_minor": 5
}
